{
 "cells": [
  {
   "cell_type": "markdown",
   "id": "9499368c",
   "metadata": {},
   "source": [
    "# Random Quantum Circuit Sampling"
   ]
  },
  {
   "cell_type": "markdown",
   "id": "05e663b6",
   "metadata": {},
   "source": [
    "This notebook explores random quantum circuit sampling via the probabilistic addition of Kraus operators.  The circuit being explored is a Bell State."
   ]
  },
  {
   "cell_type": "code",
   "execution_count": 1,
   "id": "12da56d2",
   "metadata": {},
   "outputs": [],
   "source": [
    "from qiskit import QuantumCircuit, transpile\n",
    "from qiskit_aer import AerSimulator\n",
    "import qiskit.quantum_info as qi\n",
    "from qiskit.tools.visualization import plot_histogram\n",
    "import numpy as np\n",
    "from enum import Enum\n",
    "\n",
    "sim = AerSimulator()\n",
    "\n",
    "NOISE_TYPE = Enum('NOISE_TYPE', ['bit_flip', 'depolarization', 'dephasing'])\n",
    "NOISE_GATE_LOCATION = Enum('NOISE_GATE_LOCATION', ['before', 'after'])"
   ]
  },
  {
   "cell_type": "code",
   "execution_count": 2,
   "id": "cdf80bbd",
   "metadata": {},
   "outputs": [
    {
     "data": {
      "text/plain": [
       "<qiskit.circuit.instructionset.InstructionSet at 0x10e543940>"
      ]
     },
     "execution_count": 2,
     "metadata": {},
     "output_type": "execute_result"
    }
   ],
   "source": [
    "# Define the input circuit\n",
    "INPUT_CIRCUIT = QuantumCircuit(2, 2)\n",
    "INPUT_CIRCUIT.h(0)\n",
    "INPUT_CIRCUIT.cx(0, 1)"
   ]
  },
  {
   "cell_type": "code",
   "execution_count": 3,
   "id": "f8e8c369",
   "metadata": {},
   "outputs": [],
   "source": [
    "def simulate_measurements(circuit, trials = 1000, shots_per_trial = 10):\n",
    "    circ = transpile(circuit, sim)\n",
    "    result = sim.run(circ).result()\n",
    "    counts = result.get_counts(0)\n",
    "    return counts"
   ]
  },
  {
   "cell_type": "code",
   "execution_count": 4,
   "id": "cd5d8c4d",
   "metadata": {},
   "outputs": [],
   "source": [
    "# Aggregate dictionary values for each key\n",
    "def add_counts(dict1, dict2={}):\n",
    "    temp = {}\n",
    "    for entry in dict1:\n",
    "        temp[entry] = dict1[entry]\n",
    "        if(list(dict2.keys()).count(entry) != 0):\n",
    "            temp[entry] += dict2[entry]\n",
    "    for entry in dict2:\n",
    "        if(list(dict1.keys()).count(entry) == 0):\n",
    "            temp[entry] = dict2[entry]\n",
    "    return temp"
   ]
  },
  {
   "cell_type": "code",
   "execution_count": 5,
   "id": "b0a1ba60",
   "metadata": {},
   "outputs": [],
   "source": [
    "# Inputs:\n",
    "#     @input_circuit - QiskitCircuit object\n",
    "#     @noise_type    - NOISE_TYPE enum value\n",
    "#     @noise_prob    - a decimal value from 0 to 1 indicating \n",
    "#                          the probability of noise on each gate\n",
    "#     @before_gate_prob - a decimal value from 0 to 1 corresponding to the probability \n",
    "#                          with which the Kraus operator should be placed before the gate\n",
    "def create_circuit(input_circuit, noise_type=None, noise_prob=0.5, before_gate_prob=0.5):\n",
    "    match noise_type:\n",
    "        case NOISE_TYPE.bit_flip:\n",
    "            kraus_operator = qi.Pauli('X')\n",
    "        case NOISE_TYPE.depolarization:\n",
    "            pass\n",
    "        case NOISE_TYPE.dephasing:\n",
    "            kraus_operator = qi.Pauli('Z')\n",
    "        case _:\n",
    "            kraus_operator = qi.Pauli('I')\n",
    "    \n",
    "    qc = QuantumCircuit(input_circuit.num_qubits, input_circuit.num_clbits)\n",
    "    for gate in input_circuit.data:\n",
    "        insert_noise = True if np.random.random() < noise_prob and noise_type else False\n",
    "        noise_location = None\n",
    "        if(insert_noise):\n",
    "            noise_location = NOISE_GATE_LOCATION.before if np.random.random() < before_gate_prob \\\n",
    "                else NOISE_GATE_LOCATION.after\n",
    "        affected_qubits = np.array([], dtype=int)\n",
    "        for i in range(gate.operation.num_qubits):\n",
    "            affected_qubits = np.append(affected_qubits, gate.qubits[i].index)\n",
    "        if(gate.operation.name != 'measure'):\n",
    "            if(noise_location == NOISE_GATE_LOCATION.before):\n",
    "                qc.append(kraus_operator, [len(gate.qubits)-1])\n",
    "            qc.append(gate.operation, gate.qubits)\n",
    "            if(noise_location == NOISE_GATE_LOCATION.after):\n",
    "                qc.append(kraus_operator, [len(gate.qubits)-1])\n",
    "\n",
    "    qc.measure(list(range(qc.num_qubits)), list(range(qc.num_clbits)))\n",
    "    return qc"
   ]
  },
  {
   "cell_type": "code",
   "execution_count": 6,
   "id": "efc47c63",
   "metadata": {},
   "outputs": [
    {
     "name": "stderr",
     "output_type": "stream",
     "text": [
      "/var/folders/h3/pf9q76wn3ys1vvypxh2y6_s80000gn/T/ipykernel_45846/3425357252.py:28: DeprecationWarning: 'Bit.index' is deprecated since Qiskit Terra 0.17 and will be removed in a future release. Bits may be in more than one register. Use 'QuantumCircuit.find_bit' to find all the containing registers within a circuit, and the index of the bit within the circuit.\n",
      "  affected_qubits = np.append(affected_qubits, gate.qubits[i].index)\n"
     ]
    },
    {
     "name": "stdout",
     "output_type": "stream",
     "text": [
      "     ┌───┐     ┌─┐   \n",
      "q_0: ┤ H ├──■──┤M├───\n",
      "     └───┘┌─┴─┐└╥┘┌─┐\n",
      "q_1: ─────┤ X ├─╫─┤M├\n",
      "          └───┘ ║ └╥┘\n",
      "c: 2/═══════════╩══╩═\n",
      "                0  1 \n"
     ]
    },
    {
     "data": {
      "image/png": "[encoded data removed]",
      "text/plain": [
       "<Figure size 700x500 with 1 Axes>"
      ]
     },
     "execution_count": 6,
     "metadata": {},
     "output_type": "execute_result"
    }
   ],
   "source": [
    "# Simulate a noiseless circuit\n",
    "ideal_circuit = create_circuit(INPUT_CIRCUIT)\n",
    "print(ideal_circuit)\n",
    "measurements = simulate_measurements(ideal_circuit)\n",
    "plot_histogram(measurements)"
   ]
  },
  {
   "cell_type": "code",
   "execution_count": 7,
   "id": "768dbb04",
   "metadata": {},
   "outputs": [
    {
     "name": "stderr",
     "output_type": "stream",
     "text": [
      "/var/folders/h3/pf9q76wn3ys1vvypxh2y6_s80000gn/T/ipykernel_45846/3425357252.py:28: DeprecationWarning: 'Bit.index' is deprecated since Qiskit Terra 0.17 and will be removed in a future release. Bits may be in more than one register. Use 'QuantumCircuit.find_bit' to find all the containing registers within a circuit, and the index of the bit within the circuit.\n",
      "  affected_qubits = np.append(affected_qubits, gate.qubits[i].index)\n"
     ]
    },
    {
     "data": {
      "image/png": "[encoded data removed]",
      "text/plain": [
       "<Figure size 700x500 with 1 Axes>"
      ]
     },
     "execution_count": 7,
     "metadata": {},
     "output_type": "execute_result"
    }
   ],
   "source": [
    "# Simulate bit-flip noise\n",
    "counts = {}\n",
    "for i in range(100):\n",
    "    bit_flip_noise_circuit = create_circuit(INPUT_CIRCUIT, NOISE_TYPE.bit_flip)\n",
    "    measurements = simulate_measurements(bit_flip_noise_circuit)\n",
    "    counts = add_counts(measurements, counts)\n",
    "    \n",
    "plot_histogram(counts)"
   ]
  }
 ],
 "metadata": {
  "kernelspec": {
   "display_name": "Python 3 (ipykernel)",
   "language": "python",
   "name": "python3"
  },
  "language_info": {
   "codemirror_mode": {
    "name": "ipython",
    "version": 3
   },
   "file_extension": ".py",
   "mimetype": "text/x-python",
   "name": "python",
   "nbconvert_exporter": "python",
   "pygments_lexer": "ipython3",
   "version": "3.11.3"
  }
 },
 "nbformat": 4,
 "nbformat_minor": 5
}
